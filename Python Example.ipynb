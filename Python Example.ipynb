{
 "cells": [
  {
   "cell_type": "code",
   "execution_count": 2,
   "id": "ebce8885",
   "metadata": {},
   "outputs": [],
   "source": [
    "var = 20\n",
    "var2=30\n",
    "ay=\"mart\"\n",
    "var3=2.0"
   ]
  },
  {
   "cell_type": "code",
   "execution_count": 3,
   "id": "d788b509",
   "metadata": {},
   "outputs": [
    {
     "data": {
      "text/plain": [
       "list"
      ]
     },
     "execution_count": 3,
     "metadata": {},
     "output_type": "execute_result"
    }
   ],
   "source": [
    "list_try=[3,5,6]\n",
    "type(list_try)"
   ]
  },
  {
   "cell_type": "code",
   "execution_count": 5,
   "id": "1fd8c738",
   "metadata": {},
   "outputs": [
    {
     "name": "stdout",
     "output_type": "stream",
     "text": [
      "3\n"
     ]
    }
   ],
   "source": [
    "deger =list_try[0]\n",
    "print(deger)\n"
   ]
  },
  {
   "cell_type": "code",
   "execution_count": 8,
   "id": "4048652e",
   "metadata": {},
   "outputs": [],
   "source": [
    "list_try.append(6)\n",
    "list_try.remove(6)\n"
   ]
  },
  {
   "cell_type": "code",
   "execution_count": 9,
   "id": "8c62e6e8",
   "metadata": {},
   "outputs": [],
   "source": [
    "list_try.reverse()"
   ]
  },
  {
   "cell_type": "code",
   "execution_count": 11,
   "id": "52a1d286",
   "metadata": {},
   "outputs": [],
   "source": [
    "liste_iki=[1,2,3,4]\n",
    "liste_iki.sort()\n"
   ]
  },
  {
   "cell_type": "code",
   "execution_count": 12,
   "id": "ae096e7d",
   "metadata": {},
   "outputs": [],
   "source": [
    "string_liste=[\"huseyin\",\"ozel\"]\n"
   ]
  },
  {
   "cell_type": "code",
   "execution_count": 14,
   "id": "09232740",
   "metadata": {},
   "outputs": [
    {
     "name": "stdout",
     "output_type": "stream",
     "text": [
      "1\n",
      "2\n",
      "3\n",
      "4\n"
     ]
    }
   ],
   "source": [
    "for i in range (1,5):\n",
    "    print(i)"
   ]
  },
  {
   "cell_type": "code",
   "execution_count": 15,
   "id": "7fb6dcbb",
   "metadata": {},
   "outputs": [
    {
     "data": {
      "text/plain": [
       "10"
      ]
     },
     "execution_count": 15,
     "metadata": {},
     "output_type": "execute_result"
    }
   ],
   "source": [
    "sum(liste_iki)"
   ]
  },
  {
   "cell_type": "code",
   "execution_count": 17,
   "id": "17bea4d3",
   "metadata": {},
   "outputs": [
    {
     "data": {
      "text/plain": [
       "1"
      ]
     },
     "execution_count": 17,
     "metadata": {},
     "output_type": "execute_result"
    }
   ],
   "source": [
    "min(liste_iki)\n"
   ]
  },
  {
   "cell_type": "code",
   "execution_count": 18,
   "id": "6d2536f8",
   "metadata": {},
   "outputs": [
    {
     "name": "stdout",
     "output_type": "stream",
     "text": [
      "0\n"
     ]
    }
   ],
   "source": [
    "min=0\n",
    "\n",
    "for i in liste_iki:\n",
    "    \n",
    "    if(i<min):\n",
    "        \n",
    "        min=i\n",
    "        \n",
    "    else:\n",
    "        \n",
    "        continue \n",
    "        \n",
    "print(min) "
   ]
  },
  {
   "cell_type": "code",
   "execution_count": 19,
   "id": "cc83d921",
   "metadata": {},
   "outputs": [
    {
     "name": "stdout",
     "output_type": "stream",
     "text": [
      "deger1 daha kucuk\n"
     ]
    }
   ],
   "source": [
    "deger1=10\n",
    "deger2=20\n",
    "\n",
    "if (deger1 > deger2):\n",
    "    \n",
    "    print(\"deger1 daha buyuk\")\n",
    "    \n",
    "elif (deger1==deger2):\n",
    "    print(\"esıt\")\n",
    "    \n",
    "else :\n",
    "    \n",
    "    print(\"deger1 daha kucuk\")"
   ]
  },
  {
   "cell_type": "code",
   "execution_count": 20,
   "id": "09b0b677",
   "metadata": {},
   "outputs": [
    {
     "name": "stdout",
     "output_type": "stream",
     "text": [
      "val değeri 3 listenin içindedir.\n"
     ]
    }
   ],
   "source": [
    "liste =[1,2,3,4,5]\n",
    "\n",
    "val = 3\n",
    "\n",
    "if val in liste:\n",
    "    \n",
    "    print(\"val değeri {} listenin içindedir.\".format(val))\n",
    "    \n",
    "else:\n",
    "    print(\"val değeri {} listenin içinde değildir.\".format(val))\n",
    "    "
   ]
  },
  {
   "cell_type": "code",
   "execution_count": 22,
   "id": "6c9f2be9",
   "metadata": {},
   "outputs": [
    {
     "name": "stdout",
     "output_type": "stream",
     "text": [
      "1\n",
      "2\n",
      "3\n"
     ]
    }
   ],
   "source": [
    "i=1 \n",
    "\n",
    "while (i<4):\n",
    "    \n",
    "    print(i)\n",
    "    \n",
    "    i = i+1"
   ]
  },
  {
   "cell_type": "code",
   "execution_count": 24,
   "id": "ad65fa11",
   "metadata": {},
   "outputs": [
    {
     "name": "stdout",
     "output_type": "stream",
     "text": [
      "9\n"
     ]
    },
    {
     "data": {
      "text/plain": [
       "12"
      ]
     },
     "execution_count": 24,
     "metadata": {},
     "output_type": "execute_result"
    }
   ],
   "source": [
    "def hesapyap(a):\n",
    "    \n",
    "    sonuc= a*a\n",
    "    \n",
    "    return sonuc\n",
    "\n",
    "deger = hesapyap(3)\n",
    "\n",
    "deger2 = lambda a: a*a \n",
    "\n",
    "print(deger2(3)) \n",
    "\n",
    "\n",
    "b = 4\n",
    "\n",
    "z = lambda a:a*b\n",
    "\n",
    "z(3) "
   ]
  },
  {
   "cell_type": "code",
   "execution_count": 26,
   "id": "5b2ccf7c",
   "metadata": {},
   "outputs": [
    {
     "data": {
      "text/plain": [
       "dict"
      ]
     },
     "execution_count": 26,
     "metadata": {},
     "output_type": "execute_result"
    }
   ],
   "source": [
    "\n",
    "dictti= {\"huseyin\":24, \"ahmet\":7, \"furkan\":4}\n",
    "type(dictti)"
   ]
  },
  {
   "cell_type": "code",
   "execution_count": 28,
   "id": "37d0b5a5",
   "metadata": {},
   "outputs": [
    {
     "data": {
      "text/plain": [
       "7"
      ]
     },
     "execution_count": 28,
     "metadata": {},
     "output_type": "execute_result"
    }
   ],
   "source": [
    "dictti[\"ahmet\"]"
   ]
  },
  {
   "cell_type": "code",
   "execution_count": 30,
   "id": "5c463027",
   "metadata": {},
   "outputs": [
    {
     "data": {
      "text/plain": [
       "int"
      ]
     },
     "execution_count": 30,
     "metadata": {},
     "output_type": "execute_result"
    }
   ],
   "source": [
    "type(dictti[\"ahmet\"])"
   ]
  },
  {
   "cell_type": "code",
   "execution_count": 32,
   "id": "0a7e82fd",
   "metadata": {},
   "outputs": [
    {
     "data": {
      "text/plain": [
       "dict_keys(['huseyin', 'ahmet', 'furkan'])"
      ]
     },
     "execution_count": 32,
     "metadata": {},
     "output_type": "execute_result"
    }
   ],
   "source": [
    "dictti.keys()"
   ]
  },
  {
   "cell_type": "code",
   "execution_count": 34,
   "id": "8cae3de4",
   "metadata": {},
   "outputs": [
    {
     "data": {
      "text/plain": [
       "dict_values([24, 7, 4])"
      ]
     },
     "execution_count": 34,
     "metadata": {},
     "output_type": "execute_result"
    }
   ],
   "source": [
    "dictti.values()"
   ]
  },
  {
   "cell_type": "code",
   "execution_count": 35,
   "id": "3363d951",
   "metadata": {},
   "outputs": [
    {
     "name": "stdout",
     "output_type": "stream",
     "text": [
      "evet\n"
     ]
    }
   ],
   "source": [
    "deger = dictti.keys()\n",
    "if \"ahmet\" in deger: \n",
    "    \n",
    "    print(\"evet\")\n",
    "\n",
    "else:\n",
    "    print(\"hayır\")"
   ]
  }
 ],
 "metadata": {
  "kernelspec": {
   "display_name": "Python 3 (ipykernel)",
   "language": "python",
   "name": "python3"
  },
  "language_info": {
   "codemirror_mode": {
    "name": "ipython",
    "version": 3
   },
   "file_extension": ".py",
   "mimetype": "text/x-python",
   "name": "python",
   "nbconvert_exporter": "python",
   "pygments_lexer": "ipython3",
   "version": "3.9.13"
  }
 },
 "nbformat": 4,
 "nbformat_minor": 5
}
